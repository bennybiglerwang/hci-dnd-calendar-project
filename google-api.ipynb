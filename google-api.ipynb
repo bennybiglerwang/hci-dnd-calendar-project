{
 "cells": [
  {
   "cell_type": "code",
   "execution_count": null,
   "metadata": {},
   "outputs": [],
   "source": [
    "from google_auth_oauthlib.flow import InstalledAppFlow\n",
    "from googleapiclient.discovery import build\n",
    "\n",
    "oauth2_client_secret_file = 'client_secret.json'\n",
    "scopes = ['https://www.googleapis.com/auth/calendar']\n",
    "\n",
    "flow = InstalledAppFlow.from_client_secrets_file(oauth2_client_secret_file, scopes)\n",
    "creds = flow.run_local_server(port = 0)\n",
    "\n",
    "service = build('calendar', 'v3', credentials=creds)"
   ]
  },
  {
   "cell_type": "code",
   "execution_count": null,
   "metadata": {},
   "outputs": [],
   "source": []
  }
 ],
 "metadata": {
  "kernelspec": {
   "display_name": "venv",
   "language": "python",
   "name": "python3"
  },
  "language_info": {
   "codemirror_mode": {
    "name": "ipython",
    "version": 3
   },
   "file_extension": ".py",
   "mimetype": "text/x-python",
   "name": "python",
   "nbconvert_exporter": "python",
   "pygments_lexer": "ipython3",
   "version": "3.11.10"
  }
 },
 "nbformat": 4,
 "nbformat_minor": 2
}
